{
 "cells": [
  {
   "cell_type": "markdown",
   "id": "50b86fea",
   "metadata": {},
   "source": [
    "# Reverse Jim Cramer Index\n",
    "\n",
    "## Rationale:\n",
    "\n",
    "### The idea behind this mini project was to assess Jim Cramer's bullish stock picks in an market downturn. That said, the odds are in my favor since I shorted one stock for every bullish recommendation that Jim gave, while we are known to be in a market downturn. With this, it is also quite interesting how he (Jim) continued to give bullish advice even though it was obvious that the market was transitioning from the bulls to the bears\n",
    "\n",
    "## Description:\n",
    "\n",
    "### I scraped all of Jim's bullish picks (https://www.thestreet.com/jim-cramer) and calculated their returns to the current day. It seems like a fairly simple project, but I had to do a lot of reverse and forward engineering, since the APIs I utilized take similar but very different inputs. That is why I had to do a lot of processing on the dates I used as inputs for the APIs. I also found a pretty neat pattern in the URL of the site that houses Jim's picks: if you can find the the dates and store them in a list, you can very simply (after an hour of trial and error) scrape the data you need. That said, it took some research and processing to get the dates in the exact format I needed them to be in\n",
    "\n",
    "## What I learned:\n",
    "\n",
    "### I did not expect to learn so many new concepts from a seemingly simple project, especially because I have scraped data from many sources before so it should have been fairly straightforward. That said, I learned a very cool method from BeautifulSoup `.next_sibling` was a lifesaver since it allowed me to reference a specific tag on the webpage and find the immediate tag below it. That really blew my mind! It was an overall interesting project that I learned a lot from"
   ]
  },
  {
   "cell_type": "code",
   "execution_count": 1,
   "id": "9df3c55d",
   "metadata": {},
   "outputs": [],
   "source": [
    "import requests\n",
    "from bs4 import BeautifulSoup\n",
    "import html5lib \n",
    "import pandas as pd\n",
    "import yfinance as yf\n",
    "import pandas_market_calendars as mcal\n",
    "import datetime"
   ]
  },
  {
   "cell_type": "code",
   "execution_count": 2,
   "id": "ea4ef66b",
   "metadata": {},
   "outputs": [],
   "source": [
    "nyse = mcal.get_calendar('NYSE')"
   ]
  },
  {
   "cell_type": "code",
   "execution_count": 3,
   "id": "0a5db7e5",
   "metadata": {},
   "outputs": [],
   "source": [
    "today = datetime.date.today()\n",
    "today = str(today).split(\" \")[0]\n",
    "today = datetime.date.fromisoformat(today)\n",
    "today = today.isoformat()"
   ]
  },
  {
   "cell_type": "code",
   "execution_count": 4,
   "id": "d1279538",
   "metadata": {},
   "outputs": [],
   "source": [
    "dates = nyse.schedule(start_date='2022-01-01', end_date=today).index"
   ]
  },
  {
   "cell_type": "code",
   "execution_count": 5,
   "id": "e2f8a1e7",
   "metadata": {},
   "outputs": [],
   "source": [
    "trading_days = []\n",
    "trading_days_downloads = []\n",
    "\n",
    "for i in dates:\n",
    "    d = str(i).split(\" \")[0]\n",
    "    \n",
    "    d = datetime.date.fromisoformat(d)\n",
    "    work = d.ctime().split(\" \")\n",
    "    a = d.isoformat()\n",
    "    \n",
    "    \n",
    "    if \"\" in work:\n",
    "        del work[2]\n",
    "        \n",
    "    trading_days.append(work[1:3])\n",
    "    trading_days_downloads.append(a)"
   ]
  },
  {
   "cell_type": "code",
   "execution_count": 6,
   "id": "03680f45",
   "metadata": {},
   "outputs": [],
   "source": [
    "for i in trading_days:\n",
    "    i[0] = i[0].lower()\n",
    "    \n",
    "    if i[0] == \"mar\":\n",
    "        i[0] = \"march\"\n",
    "    elif i[0] == \"apr\":\n",
    "        i[0] = \"april\"\n",
    "    elif i[0] == \"jun\":\n",
    "        i[0] = \"june\""
   ]
  },
  {
   "cell_type": "code",
   "execution_count": null,
   "id": "d4efb071",
   "metadata": {},
   "outputs": [],
   "source": [
    "tickers_bullish = {}\n",
    "\n",
    "for i in trading_days:\n",
    "    \n",
    "    URL = f\"https://www.thestreet.com/jim-cramer/cramers-mad-money-recap-{i[0]}-{i[-1]}-2022\"\n",
    "    \n",
    "    re = requests.get(URL)\n",
    "\n",
    "    soup = BeautifulSoup(re.content, \"html5lib\")\n",
    "    \n",
    "    test = soup.find(id = \"lightning-round\")\n",
    "\n",
    "    try:\n",
    "    \n",
    "        bullish = test.next_sibling\n",
    "        \n",
    "    except:\n",
    "        \n",
    "        continue\n",
    "    \n",
    "    tickers = []\n",
    "    for j in bullish.find_all(\"strong\"):\n",
    "        if j.get_text().isupper():\n",
    "            tickers.append(j.get_text())\n",
    "    \n",
    "    tickers_bullish[f\"{i[0]}-{i[-1]}\"] = tickers"
   ]
  },
  {
   "cell_type": "code",
   "execution_count": null,
   "id": "2e6c9713",
   "metadata": {},
   "outputs": [],
   "source": [
    "ticker_positions = {}"
   ]
  },
  {
   "cell_type": "code",
   "execution_count": null,
   "id": "fdcd11af",
   "metadata": {},
   "outputs": [],
   "source": [
    "total_stocks = 0\n",
    "jim_wins = 0\n",
    "jim_returns = 0\n",
    "inverse_returns = 0\n",
    "\n",
    "for i in range(len(trading_days)):\n",
    "    \n",
    "    tester = f\"{trading_days[i][0]}-{trading_days[i][-1]}\"\n",
    "    try:\n",
    "        stocks = tickers_bullish[tester]\n",
    "    except:\n",
    "        continue\n",
    "    \n",
    "    all_returns = []\n",
    "    \n",
    "    prev = \"\"\n",
    "\n",
    "    for b, v in enumerate(stocks):\n",
    "        \n",
    "        if v == prev:\n",
    "            print(f\"{v} = {prev}\")\n",
    "            continue\n",
    "\n",
    "        returns = []\n",
    "        time_deltas = [1, 2, 7, 28, -1]\n",
    "        prices = []\n",
    "        \n",
    "        try:\n",
    "            \n",
    "            data = yf.download(v, start=trading_days_downloads[i], end=today)[\"Adj Close\"]\n",
    "        \n",
    "        except:\n",
    "            \n",
    "            continue\n",
    "\n",
    "        \n",
    "        try:\n",
    "            for a, b in enumerate(time_deltas):\n",
    "                \n",
    "                if len(data) < b:\n",
    "                    prices.append(data[-1])\n",
    "                else:\n",
    "\n",
    "                    prices.append(round(data[b], 2))\n",
    "\n",
    "                if a > 0:        \n",
    "                    returns.append(round(prices[0] - prices[a], 2))\n",
    "        except:\n",
    "            continue\n",
    "            \n",
    "        prev = v\n",
    "        \n",
    "        if returns[-1] < 0:\n",
    "            jim_wins += 1\n",
    "            jim_returns += returns[-1]\n",
    "        else:\n",
    "            inverse_returns += returns[-1]\n",
    "            \n",
    "        total_stocks += 1\n",
    "\n",
    "        all_returns.append(returns)\n",
    "        \n",
    "        \n",
    "    ticker_positions[tester] = all_returns"
   ]
  },
  {
   "cell_type": "code",
   "execution_count": null,
   "id": "b4d0b5d4",
   "metadata": {},
   "outputs": [],
   "source": [
    "print(f\"You would have made ${round(inverse_returns + jim_returns, 2):,} if you had shorted one stock for each of Jim Cramer's recommendations\")"
   ]
  },
  {
   "cell_type": "code",
   "execution_count": null,
   "id": "60841035",
   "metadata": {},
   "outputs": [],
   "source": [
    "print(f\"Jim only predicted (correctly) at a rate of {round(jim_wins/total_stocks, 2) * 100}%\")"
   ]
  }
 ],
 "metadata": {
  "kernelspec": {
   "display_name": "Python 3 (ipykernel)",
   "language": "python",
   "name": "python3"
  },
  "language_info": {
   "codemirror_mode": {
    "name": "ipython",
    "version": 3
   },
   "file_extension": ".py",
   "mimetype": "text/x-python",
   "name": "python",
   "nbconvert_exporter": "python",
   "pygments_lexer": "ipython3",
   "version": "3.9.12"
  }
 },
 "nbformat": 4,
 "nbformat_minor": 5
}
